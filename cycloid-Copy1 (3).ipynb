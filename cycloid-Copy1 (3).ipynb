{
 "cells": [
  {
   "cell_type": "code",
   "execution_count": null,
   "metadata": {},
   "outputs": [],
   "source": [
    "import tkinter as tk\n",
    "import math\n",
    "r = float(input(\"Enter the length of radius): \")) \n",
    "circle_color = \"red\"\n",
    "cycloid_color = \"blue\"\n",
    "root = tk.Tk()\n",
    "root.title(\"Cycloid\")\n",
    "canvas = tk.Canvas(root, width=800, height=800, bg=\"white\")\n",
    "canvas.pack()\n",
    "canvas.create_line(200, 50, 200, 500, fill=\"black\", dash=(1, 1)) # Y-axis\n",
    "canvas.create_line(100, 400, 750, 400, fill=\"black\", dash=(1, 1)) # X-axis\n",
    "def draw_circle(x1,r):\n",
    "  canvas.delete(\"circle\")\n",
    "  canvas.create_oval(200+x1 - r, 400 -2*r, 200+x1 + r, 400, outline=circle_color, width=1.5, tags=\"circle\")\n",
    "def draw_point(x1,y1,y2,r):\n",
    "  canvas.delete(\"point\")\n",
    "  canvas.create_oval(200+x1 - y2-5, 400 -r+y1-5, 200+x1 -y2+5, 400-r+y1+5, fill=\"gold\",tags=\"point\")\n",
    "\n",
    "def animate():\n",
    "   x_path=[400]\n",
    "   y_path=[400]\n",
    "   for angle in range(0, 360, 1): # Iteration \n",
    "    x1 = r * math.radians(angle) \n",
    "    y1 = r * math.cos(math.radians(angle))\n",
    "    y2 = r * math.sin(math.radians(angle))\n",
    "    #fixed point position\n",
    "    x_corner = 200+x1-y2\n",
    "    y_corner = 400-r+y1\n",
    "    draw_circle(x1,r)\n",
    "    draw_point(x1,y1,y2,r)\n",
    "    #for trace\n",
    "    canvas.create_oval(x_corner-1,y_corner-1, x_corner+1, y_corner+1, fill=\"blue\", tags=\"dot\")\n",
    "  \n",
    "    root.update() \n",
    "    root.after(10)\n",
    "    \n",
    "animate()\n",
    "\n",
    "root.mainloop() \n",
    "\n"
   ]
  },
  {
   "cell_type": "code",
   "execution_count": null,
   "metadata": {
    "collapsed": true
   },
   "outputs": [],
   "source": []
  }
 ],
 "metadata": {
  "kernelspec": {
   "display_name": "Python 3",
   "language": "python",
   "name": "python3"
  },
  "language_info": {
   "codemirror_mode": {
    "name": "ipython",
    "version": 3
   },
   "file_extension": ".py",
   "mimetype": "text/x-python",
   "name": "python",
   "nbconvert_exporter": "python",
   "pygments_lexer": "ipython3",
   "version": "3.6.3"
  }
 },
 "nbformat": 4,
 "nbformat_minor": 2
}
