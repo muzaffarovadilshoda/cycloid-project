{
 "cells": [
  {
   "cell_type": "code",
   "execution_count": null,
   "metadata": {},
   "outputs": [],
   "source": [
    "import tkinter as tk\n",
    "import math\n",
    "c = float(input(\"Enter the length of  line segment): \"))  \n",
    "window = tk.Tk()\n",
    "window.title(\"flower\")\n",
    "canvas = tk.Canvas(window, width=800, height=800, bg=\"white\")\n",
    "canvas.pack()\n",
    "\n",
    "canvas.create_line(400, 20, 400, 780, fill=\"gray\", dash=(1, 1)) # Y-axis\n",
    "canvas.create_line(20, 400, 780, 400, fill=\"gray\", dash=(1, 1)) # X-axis\n",
    "\n",
    "def draw_line (x1,x2):\n",
    "  canvas.delete(\"line\") # Clear the previous one\n",
    "  canvas.create_line(400, 400 - c*x2, 400 + c*x1, 400, fill=\"green\", width=3, tags=\"line\") \n",
    "def draw_point(x0,y0):\n",
    "  canvas.delete(\"point\")\n",
    "  canvas.create_oval(x0-7, y0-7, x0+7,y0+7, fill=\"orange\", tags=\"point\")\n",
    "def draw_altitude (x0,y0):\n",
    "  canvas.delete(\"altitude\") # Clear the previous one\n",
    "  canvas.create_line( 400 , 400, x0, y0, fill=\"black\", width=2, tags=\"altitude\")\n",
    "    \n",
    "def animate():\n",
    "  for angle in range(-90, 271, 1): # Iteration\n",
    "    x1 =math.cos(math.radians(angle))\n",
    "    x2 =math.sin(math.radians(angle))\n",
    "    \n",
    "    x0=400+c*x2*x2*x1\n",
    "    y0=400-c*x1*x1*x2\n",
    "    \n",
    "    draw_line (x1,x2) # Plot the line segment at the new position\n",
    "    draw_point(x0,y0)\n",
    "    draw_altitude(x0,y0)\n",
    "    \n",
    "    canvas. create_oval(x0-2,y0-2,x0+2,y0+2, fill=\"red\", tags=\"dot\")\n",
    "    \n",
    "    window.update() # Update the window to show the change\n",
    "    window.after(10) # Pause for 10 milliseconds (control animation speed)\n",
    "\n",
    "# Start the animation\n",
    "animate()\n",
    "\n",
    "window.mainloop() # Keep the window open"
   ]
  },
  {
   "cell_type": "code",
   "execution_count": null,
   "metadata": {
    "collapsed": true
   },
   "outputs": [],
   "source": []
  },
  {
   "cell_type": "code",
   "execution_count": null,
   "metadata": {
    "collapsed": true
   },
   "outputs": [],
   "source": []
  }
 ],
 "metadata": {
  "kernelspec": {
   "display_name": "Python 3",
   "language": "python",
   "name": "python3"
  },
  "language_info": {
   "codemirror_mode": {
    "name": "ipython",
    "version": 3
   },
   "file_extension": ".py",
   "mimetype": "text/x-python",
   "name": "python",
   "nbconvert_exporter": "python",
   "pygments_lexer": "ipython3",
   "version": "3.6.3"
  }
 },
 "nbformat": 4,
 "nbformat_minor": 2
}
