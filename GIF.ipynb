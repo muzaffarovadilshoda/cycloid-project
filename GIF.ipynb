{
 "cells": [
  {
   "cell_type": "code",
   "execution_count": 1,
   "metadata": {
    "collapsed": true
   },
   "outputs": [],
   "source": [
    "import tkinter as tk\n",
    "import math\n",
    "from PIL import Image, ImageDraw\n",
    "\n",
    "# Constants\n",
    "a = 150 # Length of one leg\n",
    "b = 200 # Length of the other leg\n",
    "c = 250 # Length of the hypotenuse (calculated using Pythagorean Theorem)\n",
    "\n",
    "# Create a new image\n",
    "image = Image.new(\"RGB\", (800, 800), \"white\")\n",
    "draw = ImageDraw.Draw(image)\n",
    "\n",
    "# Function to plot the triangle and axes\n",
    "def plot_triangle(x1, y1, x2, y2):\n",
    "  # Clear the previous image\n",
    "  draw.rectangle((0, 0, 800, 800), fill=\"white\")\n",
    "\n",
    "  # Draw the Cartesian plane\n",
    "  draw.line((400, 0, 400, 800), fill=\"gray\", width=3) # Y-axis\n",
    "  draw.line((0, 400, 800, 400), fill=\"gray\", width=3) # X-axis\n",
    "\n",
    "  # Draw the triangle (adjusting for the origin at (200, 200))\n",
    "  draw.line((400, 400 + y2 + x2, 400 + x1, 400 + y2), fill=\"blue\", width=4) # Bottom side\n",
    "  draw.line((400 + x1, 400 + y2, 400 + x1 - y1, 400), fill=\"blue\", width=4) # Right side\n",
    "  draw.line((400, 400 + y2 + x2, 400 + x1 - y1, 400), fill=\"blue\", width=4) # Hypotenuse\n",
    "\n",
    "\n",
    "# Function for animation\n",
    "def animate():\n",
    "  frames = []\n",
    "  # Start drawing the trajectory\n",
    "  x_path = [400]\n",
    "  y_path = [400]\n",
    "\n",
    "  for angle in range(0, 365, 5): # Iterate through angles from 0 to 360 degrees with a step of 10\n",
    "    # Calculate the coordinates for each hypotenuse endpoint\n",
    "    x1 = a * math.sin(math.radians(angle)) # x-coordinate of endpoint on x-axis\n",
    "    y1 = b * math.cos(math.radians(angle))\n",
    "    x2 = a * math.cos(math.radians(angle))\n",
    "    y2 = b * math.sin(math.radians(angle))\n",
    "\n",
    "    # Calculate the right angle corner's position\n",
    "    x_corner = 400 + x1\n",
    "    y_corner = 400 + y2\n",
    "\n",
    "    plot_triangle(x1, y1, x2, y2) # Plot the triangle at the new position\n",
    "\n",
    "    # Draw the dot for the right angle corner\n",
    "    draw.ellipse((x_corner - 4, y_corner - 4, x_corner + 4, y_corner + 4), fill=\"red\")\n",
    "\n",
    "    # Draw the path of the red dot (this is the new line)\n",
    "    for i in range(len(x_path) - 1):\n",
    "      draw.line((x_path[i], y_path[i], x_path[i + 1], y_path[i + 1]), fill=\"red\", width=3)\n",
    "\n",
    "    # Update the path coordinates\n",
    "    x_path.append(x_corner)\n",
    "    y_path.append(y_corner)\n",
    "\n",
    "    # Append the frame to the list\n",
    "    frames.append(image.copy())\n",
    "\n",
    "  # Save the frames as a GIF\n",
    "  frames[0].save(\"triangle_animation.gif\", save_all=True, append_images=frames[1:], optimize=False, duration=100, loop=0)\n",
    "\n",
    "\n",
    "# Start the animation\n",
    "animate()\n",
    "\n",
    "\n"
   ]
  },
  {
   "cell_type": "code",
   "execution_count": null,
   "metadata": {
    "collapsed": true
   },
   "outputs": [],
   "source": []
  }
 ],
 "metadata": {
  "kernelspec": {
   "display_name": "Python 3",
   "language": "python",
   "name": "python3"
  },
  "language_info": {
   "codemirror_mode": {
    "name": "ipython",
    "version": 3
   },
   "file_extension": ".py",
   "mimetype": "text/x-python",
   "name": "python",
   "nbconvert_exporter": "python",
   "pygments_lexer": "ipython3",
   "version": "3.6.3"
  }
 },
 "nbformat": 4,
 "nbformat_minor": 2
}
