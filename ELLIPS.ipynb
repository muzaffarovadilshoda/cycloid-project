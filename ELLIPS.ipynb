{
 "cells": [
  {
   "cell_type": "code",
   "execution_count": null,
   "metadata": {},
   "outputs": [],
   "source": [
    "import tkinter as tk\n",
    "import math\n",
    " \n",
    "window = tk.Tk()\n",
    "window.title(\"ellipse\")\n",
    "\n",
    "a = float(input(\"Enter the length of one section of line segment): \")) \n",
    "b = float(input(\"Enter the leng another one angle (in radians): \")) \n",
    "c=a+b\n",
    "\n",
    "# Create the canvas\n",
    "canvas = tk.Canvas(window, width=800, height=800, bg=\"white\")\n",
    "canvas.pack()\n",
    "\n",
    "# Draw the Cartesian plane \n",
    "canvas.create_line(400, 20, 400, 780, fill=\"gray\", dash=(1, 1)) # Y-axis\n",
    "canvas.create_line(20, 400, 780, 400, fill=\"gray\", dash=(1, 1)) # X-axis\n",
    "\n",
    "# Function to plot the line segment\n",
    "def draw_line (x1,x2):\n",
    "  canvas.delete(\"line\") # Clear the previous one\n",
    "  canvas.create_line(400, 400 - x2, 400 + x1, 400, fill=\"blue\", width=5, tags=\"line\") # line segment\n",
    "    \n",
    "def draw_point(x0,y0):\n",
    "  canvas.delete(\"point\")\n",
    "  canvas.create_oval(x0-7, y0-7, x0+7,y0+7, fill=\"green\", tags=\"point\")\n",
    "\n",
    "def animate():\n",
    "  for angle in range(0, 361, 1): # Iteration\n",
    "    x1 = c * math.cos(math.radians(angle))\n",
    "    x2 = c * math.sin(math.radians(angle))\n",
    "     \n",
    "    x0=400+0.64*x1\n",
    "    y0=400-0.36*x2\n",
    "\n",
    "    draw_line (x1,x2) # Plot the line segment at the new position\n",
    "    draw_point(x0,y0)\n",
    "    \n",
    "    canvas. create_oval(x0-2,y0-2,x0+2,y0+2, fill=\"red\", tags=\"dot\")\n",
    "    window.update() # Update the window to show the change\n",
    "    window.after(10) # Pause for 10 milliseconds (control animation speed)\n",
    "\n",
    "# Start the animation\n",
    "animate()\n",
    "\n",
    "window.mainloop() # Keep the window open\n"
   ]
  },
  {
   "cell_type": "code",
   "execution_count": null,
   "metadata": {
    "collapsed": true
   },
   "outputs": [],
   "source": []
  }
 ],
 "metadata": {
  "kernelspec": {
   "display_name": "Python 3",
   "language": "python",
   "name": "python3"
  },
  "language_info": {
   "codemirror_mode": {
    "name": "ipython",
    "version": 3
   },
   "file_extension": ".py",
   "mimetype": "text/x-python",
   "name": "python",
   "nbconvert_exporter": "python",
   "pygments_lexer": "ipython3",
   "version": "3.6.3"
  }
 },
 "nbformat": 4,
 "nbformat_minor": 2
}
