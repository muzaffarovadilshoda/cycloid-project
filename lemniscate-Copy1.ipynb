{
 "cells": [
  {
   "cell_type": "code",
   "execution_count": null,
   "metadata": {},
   "outputs": [
    {
     "name": "stdout",
     "output_type": "stream",
     "text": [
      "Enter the surface of triangle): 50000\n"
     ]
    }
   ],
   "source": [
    "import tkinter as tk\n",
    "import math\n",
    "\n",
    "S = float(input(\"Enter the surface of triangle): \"))\n",
    " \n",
    "window = tk.Tk()\n",
    "window.title(\"the lemniscate of Bernoulli\")\n",
    "\n",
    "canvas = tk.Canvas(window, width=800, height=800, bg=\"white\")\n",
    "canvas.pack()\n",
    "\n",
    "canvas.create_line(400, 20, 400, 780, fill=\"gray\", dash=(1, 1)) # Y-axis\n",
    "canvas.create_line(20, 400, 780, 400, fill=\"gray\", dash=(1, 1)) # X-axis\n",
    "\n",
    "  # Function to plot the hypotenuse\n",
    "def draw_line (x1,x2):\n",
    "  canvas.delete(\"line\") # Clear the previous one\n",
    "  canvas.create_line( 400 + x1, 400, 400, 400 - x2, fill=\"blue\", width=3, tags=\"line\") \n",
    "def draw_point(x0,y0):\n",
    "  canvas.delete(\"point\")\n",
    "  canvas.create_oval(x0-5, y0-5, x0+5,y0+5, fill=\"green\", tags=\"point\")\n",
    "def draw_altitude (x0,y0):\n",
    "  canvas.delete(\"altitude\") # Clear the previous one\n",
    "  canvas.create_line( 400 , 400, x0, y0, fill=\"black\", width=3, tags=\"altitude\") \n",
    "def animate():\n",
    "    for angle in range(1,359, 1): # Iteration\n",
    "        if 1<=angle<=89:\n",
    "           x1 = math.sqrt(2*S*abs(1/math.tan(math.radians(angle))))\n",
    "           x2 = math.sqrt(2*S*abs(math.tan(math.radians(angle))))\n",
    "        elif 90 <= angle <= 180:\n",
    "           x1 = 0\n",
    "           x2 = 0\n",
    "        elif 181 <= angle <= 269: \n",
    "           x1 = (-1)*math.sqrt(2*S*abs(1/math.tan(math.radians(angle))))\n",
    "           x2 = (-1)*math.sqrt(2*S*abs(math.tan(math.radians(angle))))\n",
    "        elif 270 <= angle <= 360: \n",
    "           x1 =0\n",
    "           x2 =0\n",
    "        x0=400+x1*math.sin(math.radians(angle))**2\n",
    "        y0=400-x2*math.cos(math.radians(angle))**2\n",
    "\n",
    "        draw_line (x1,x2) \n",
    "        draw_point(x0,y0)\n",
    "        draw_altitude(x0,y0)\n",
    "    \n",
    "        canvas. create_oval(x0-2,y0-2,x0+2,y0+2, fill=\"red\", tags=\"dot\")\n",
    "        window.update() \n",
    "        window.after(50) \n",
    "\n",
    "animate()\n",
    "\n",
    "window.mainloop() "
   ]
  },
  {
   "cell_type": "code",
   "execution_count": null,
   "metadata": {
    "collapsed": true
   },
   "outputs": [],
   "source": []
  }
 ],
 "metadata": {
  "kernelspec": {
   "display_name": "Python 3",
   "language": "python",
   "name": "python3"
  },
  "language_info": {
   "codemirror_mode": {
    "name": "ipython",
    "version": 3
   },
   "file_extension": ".py",
   "mimetype": "text/x-python",
   "name": "python",
   "nbconvert_exporter": "python",
   "pygments_lexer": "ipython3",
   "version": "3.6.3"
  }
 },
 "nbformat": 4,
 "nbformat_minor": 2
}
